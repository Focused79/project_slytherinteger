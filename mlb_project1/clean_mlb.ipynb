{
 "cells": [
  {
   "cell_type": "code",
   "execution_count": 26,
   "metadata": {},
   "outputs": [
    {
     "data": {
      "text/html": [
       "<div>\n",
       "<style scoped>\n",
       "    .dataframe tbody tr th:only-of-type {\n",
       "        vertical-align: middle;\n",
       "    }\n",
       "\n",
       "    .dataframe tbody tr th {\n",
       "        vertical-align: top;\n",
       "    }\n",
       "\n",
       "    .dataframe thead th {\n",
       "        text-align: right;\n",
       "    }\n",
       "</style>\n",
       "<table border=\"1\" class=\"dataframe\">\n",
       "  <thead>\n",
       "    <tr style=\"text-align: right;\">\n",
       "      <th></th>\n",
       "      <th>yearID</th>\n",
       "      <th>teamID</th>\n",
       "      <th>lgID</th>\n",
       "      <th>playerID</th>\n",
       "      <th>salary</th>\n",
       "    </tr>\n",
       "  </thead>\n",
       "  <tbody>\n",
       "    <tr>\n",
       "      <th>0</th>\n",
       "      <td>1985</td>\n",
       "      <td>ATL</td>\n",
       "      <td>NL</td>\n",
       "      <td>barkele01</td>\n",
       "      <td>870000</td>\n",
       "    </tr>\n",
       "    <tr>\n",
       "      <th>1</th>\n",
       "      <td>1985</td>\n",
       "      <td>ATL</td>\n",
       "      <td>NL</td>\n",
       "      <td>bedrost01</td>\n",
       "      <td>550000</td>\n",
       "    </tr>\n",
       "    <tr>\n",
       "      <th>2</th>\n",
       "      <td>1985</td>\n",
       "      <td>ATL</td>\n",
       "      <td>NL</td>\n",
       "      <td>benedbr01</td>\n",
       "      <td>545000</td>\n",
       "    </tr>\n",
       "    <tr>\n",
       "      <th>3</th>\n",
       "      <td>1985</td>\n",
       "      <td>ATL</td>\n",
       "      <td>NL</td>\n",
       "      <td>campri01</td>\n",
       "      <td>633333</td>\n",
       "    </tr>\n",
       "    <tr>\n",
       "      <th>4</th>\n",
       "      <td>1985</td>\n",
       "      <td>ATL</td>\n",
       "      <td>NL</td>\n",
       "      <td>ceronri01</td>\n",
       "      <td>625000</td>\n",
       "    </tr>\n",
       "  </tbody>\n",
       "</table>\n",
       "</div>"
      ],
      "text/plain": [
       "   yearID teamID lgID   playerID  salary\n",
       "0    1985    ATL   NL  barkele01  870000\n",
       "1    1985    ATL   NL  bedrost01  550000\n",
       "2    1985    ATL   NL  benedbr01  545000\n",
       "3    1985    ATL   NL   campri01  633333\n",
       "4    1985    ATL   NL  ceronri01  625000"
      ]
     },
     "execution_count": 26,
     "metadata": {},
     "output_type": "execute_result"
    }
   ],
   "source": [
    "import pandas as pd\n",
    "import os\n",
    "\n",
    "file_path = r'c:\\Users\\Albrecht\\Desktop\\BC Class Repo\\git_hub\\project_slytherinteger\\mlb_salary_cleanup\\Salaries_mlb_teams.csv'\n",
    "\n",
    "teams_df = pd.read_csv(file_path)\n",
    "teams_df.head()\n",
    "\n"
   ]
  },
  {
   "cell_type": "code",
   "execution_count": 27,
   "metadata": {},
   "outputs": [
    {
     "data": {
      "text/html": [
       "<div>\n",
       "<style scoped>\n",
       "    .dataframe tbody tr th:only-of-type {\n",
       "        vertical-align: middle;\n",
       "    }\n",
       "\n",
       "    .dataframe tbody tr th {\n",
       "        vertical-align: top;\n",
       "    }\n",
       "\n",
       "    .dataframe thead th {\n",
       "        text-align: right;\n",
       "    }\n",
       "</style>\n",
       "<table border=\"1\" class=\"dataframe\">\n",
       "  <thead>\n",
       "    <tr style=\"text-align: right;\">\n",
       "      <th></th>\n",
       "      <th>yearID</th>\n",
       "      <th>teamID</th>\n",
       "      <th>lgID</th>\n",
       "      <th>salary</th>\n",
       "    </tr>\n",
       "  </thead>\n",
       "  <tbody>\n",
       "    <tr>\n",
       "      <th>0</th>\n",
       "      <td>1985</td>\n",
       "      <td>ATL</td>\n",
       "      <td>NL</td>\n",
       "      <td>14807000</td>\n",
       "    </tr>\n",
       "    <tr>\n",
       "      <th>1</th>\n",
       "      <td>1985</td>\n",
       "      <td>BAL</td>\n",
       "      <td>AL</td>\n",
       "      <td>11560712</td>\n",
       "    </tr>\n",
       "    <tr>\n",
       "      <th>2</th>\n",
       "      <td>1985</td>\n",
       "      <td>BOS</td>\n",
       "      <td>AL</td>\n",
       "      <td>10897560</td>\n",
       "    </tr>\n",
       "    <tr>\n",
       "      <th>3</th>\n",
       "      <td>1985</td>\n",
       "      <td>CAL</td>\n",
       "      <td>AL</td>\n",
       "      <td>14427894</td>\n",
       "    </tr>\n",
       "    <tr>\n",
       "      <th>4</th>\n",
       "      <td>1985</td>\n",
       "      <td>CHA</td>\n",
       "      <td>AL</td>\n",
       "      <td>9846178</td>\n",
       "    </tr>\n",
       "  </tbody>\n",
       "</table>\n",
       "</div>"
      ],
      "text/plain": [
       "   yearID teamID lgID    salary\n",
       "0    1985    ATL   NL  14807000\n",
       "1    1985    BAL   AL  11560712\n",
       "2    1985    BOS   AL  10897560\n",
       "3    1985    CAL   AL  14427894\n",
       "4    1985    CHA   AL   9846178"
      ]
     },
     "execution_count": 27,
     "metadata": {},
     "output_type": "execute_result"
    }
   ],
   "source": [
    "aggregated_df = teams_df.groupby(['yearID','teamID','lgID'])['salary'].sum().reset_index()\n",
    "aggregated_df.head()\n"
   ]
  },
  {
   "cell_type": "code",
   "execution_count": 28,
   "metadata": {},
   "outputs": [
    {
     "data": {
      "text/plain": [
       "yearID    920\n",
       "teamID    920\n",
       "lgID      920\n",
       "salary    920\n",
       "dtype: int64"
      ]
     },
     "execution_count": 28,
     "metadata": {},
     "output_type": "execute_result"
    }
   ],
   "source": [
    "aggregated_df.count()"
   ]
  },
  {
   "cell_type": "code",
   "execution_count": 30,
   "metadata": {},
   "outputs": [
    {
     "data": {
      "text/html": [
       "<div>\n",
       "<style scoped>\n",
       "    .dataframe tbody tr th:only-of-type {\n",
       "        vertical-align: middle;\n",
       "    }\n",
       "\n",
       "    .dataframe tbody tr th {\n",
       "        vertical-align: top;\n",
       "    }\n",
       "\n",
       "    .dataframe thead th {\n",
       "        text-align: right;\n",
       "    }\n",
       "</style>\n",
       "<table border=\"1\" class=\"dataframe\">\n",
       "  <thead>\n",
       "    <tr style=\"text-align: right;\">\n",
       "      <th></th>\n",
       "      <th>yearID</th>\n",
       "      <th>teamID</th>\n",
       "      <th>lgID</th>\n",
       "      <th>salary</th>\n",
       "      <th>adjusted_salary</th>\n",
       "    </tr>\n",
       "  </thead>\n",
       "  <tbody>\n",
       "    <tr>\n",
       "      <th>0</th>\n",
       "      <td>1985</td>\n",
       "      <td>ATL</td>\n",
       "      <td>NL</td>\n",
       "      <td>14807000</td>\n",
       "      <td>34258061</td>\n",
       "    </tr>\n",
       "    <tr>\n",
       "      <th>1</th>\n",
       "      <td>1985</td>\n",
       "      <td>BAL</td>\n",
       "      <td>AL</td>\n",
       "      <td>11560712</td>\n",
       "      <td>26747321</td>\n",
       "    </tr>\n",
       "    <tr>\n",
       "      <th>2</th>\n",
       "      <td>1985</td>\n",
       "      <td>BOS</td>\n",
       "      <td>AL</td>\n",
       "      <td>10897560</td>\n",
       "      <td>25213026</td>\n",
       "    </tr>\n",
       "    <tr>\n",
       "      <th>3</th>\n",
       "      <td>1985</td>\n",
       "      <td>CAL</td>\n",
       "      <td>AL</td>\n",
       "      <td>14427894</td>\n",
       "      <td>33380947</td>\n",
       "    </tr>\n",
       "    <tr>\n",
       "      <th>4</th>\n",
       "      <td>1985</td>\n",
       "      <td>CHA</td>\n",
       "      <td>AL</td>\n",
       "      <td>9846178</td>\n",
       "      <td>22780507</td>\n",
       "    </tr>\n",
       "  </tbody>\n",
       "</table>\n",
       "</div>"
      ],
      "text/plain": [
       "   yearID teamID lgID    salary  adjusted_salary\n",
       "0    1985    ATL   NL  14807000         34258061\n",
       "1    1985    BAL   AL  11560712         26747321\n",
       "2    1985    BOS   AL  10897560         25213026\n",
       "3    1985    CAL   AL  14427894         33380947\n",
       "4    1985    CHA   AL   9846178         22780507"
      ]
     },
     "execution_count": 30,
     "metadata": {},
     "output_type": "execute_result"
    }
   ],
   "source": [
    "import numpy as np\n",
    "\n",
    "# Provided inflation rates\n",
    "inflation_rates = [0.043, 0.040, 0.041, 0.044, 0.045, 0.050, 0.049, 0.037, 0.033, 0.028, 0.030, 0.027, 0.024, 0.023, 0.021, 0.024, 0.026, 0.024, 0.014, 0.018, 0.022, 0.025, 0.023, 0.023, 0.017, 0.010, 0.017, 0.021, 0.018, 0.017, 0.018]\n",
    "\n",
    "# Calculate cumulative inflation factors for each year\n",
    "cumulative_factors = np.cumprod(1 + np.array(inflation_rates[::-1]))[::-1]\n",
    "\n",
    "# Create a dictionary to map yearID to cumulative inflation factor\n",
    "inflation_factors = dict(zip(range(1985, 2016), cumulative_factors))\n",
    "\n",
    "# Calculate adjusted salary as buying power in terms of 2016\n",
    "aggregated_df['adjusted_salary'] = aggregated_df.apply(\n",
    "    lambda row: row['salary'] * inflation_factors.get(row['yearID'], 1),\n",
    "    axis=1\n",
    ").astype(int)\n",
    "\n",
    "# Display the adjusted DataFrame\n",
    "\n",
    "aggregated_df.head()\n"
   ]
  },
  {
   "cell_type": "code",
   "execution_count": 22,
   "metadata": {},
   "outputs": [
    {
     "name": "stdout",
     "output_type": "stream",
     "text": [
      "Year 1985: 2.313639622454676\n",
      "Year 1986: 2.218254671576871\n",
      "Year 1987: 2.13293718420853\n",
      "Year 1988: 2.048931012688309\n",
      "Year 1989: 1.9625775983604494\n",
      "Year 1990: 1.8780646874262674\n",
      "Year 1991: 1.788633035644064\n",
      "Year 1992: 1.7050839233975825\n",
      "Year 1993: 1.6442467920902437\n",
      "Year 1994: 1.5917200310650956\n",
      "Year 1995: 1.5483657889738285\n",
      "Year 1996: 1.5032677562852703\n",
      "Year 1997: 1.463746598135609\n",
      "Year 1998: 1.4294400372418057\n",
      "Year 1999: 1.397302089190426\n",
      "Year 2000: 1.3685622812834732\n",
      "Year 2001: 1.3364866028158917\n",
      "Year 2002: 1.3026185212630523\n",
      "Year 2003: 1.2720883996709496\n",
      "Year 2004: 1.2545250489851574\n",
      "Year 2005: 1.232342877195636\n",
      "Year 2006: 1.2058149483323248\n",
      "Year 2007: 1.1764048276412926\n",
      "Year 2008: 1.1499558432466204\n",
      "Year 2009: 1.124101508549971\n",
      "Year 2010: 1.1053112178465794\n",
      "Year 2011: 1.0943675424223558\n",
      "Year 2012: 1.0760742796679998\n",
      "Year 2013: 1.0539415079999999\n",
      "Year 2014: 1.0353059999999998\n",
      "Year 2015: 1.018\n"
     ]
    }
   ],
   "source": [
    "# Print cumulative inflation factors\n",
    "for year, factor in zip(range(1985, 2016), cumulative_factors):\n",
    "    print(f'Year {year}: {factor}')"
   ]
  },
  {
   "cell_type": "code",
   "execution_count": 50,
   "metadata": {},
   "outputs": [
    {
     "data": {
      "image/png": "[encoded data removed]",
      "text/plain": [
       "<Figure size 1200x600 with 1 Axes>"
      ]
     },
     "metadata": {},
     "output_type": "display_data"
    },
    {
     "data": {
      "text/plain": [
       "'Summary Statistics for MLB Salaries (1985-2016):'"
      ]
     },
     "metadata": {},
     "output_type": "display_data"
    },
    {
     "data": {
      "text/plain": [
       "count            $920.00\n",
       "mean      $74,249,789.77\n",
       "std       $43,795,821.30\n",
       "min        $1,876,984.00\n",
       "25%       $40,040,718.25\n",
       "50%       $67,464,387.50\n",
       "75%      $100,653,779.00\n",
       "max      $256,705,422.00\n",
       "Name: adjusted_salary, dtype: object"
      ]
     },
     "metadata": {},
     "output_type": "display_data"
    },
    {
     "data": {
      "application/vnd.plotly.v1+json": {
       "config": {
        "plotlyServerURL": "https://plot.ly"
       },
       "data": [
        {
         "alignmentgroup": "True",
         "boxpoints": "all",
         "customdata": [
          [
           "ATL",
           1985
          ],
          [
           "BAL",
           1985
          ],
          [
           "BOS",
           1985
          ],
          [
           "CAL",
           1985
          ],
          [
           "CHA",
           1985
          ],
          [
           "CHN",
           1985
          ],
          [
           "CIN",
           1985
          ],
          [
           "CLE",
           1985
          ],
          [
           "DET",
           1985
          ],
          [
           "HOU",
           1985
          ],
          [
           "KCA",
           1985
          ],
          [
           "LAN",
           1985
          ],
          [
           "MIN",
           1985
          ],
          [
           "ML4",
           1985
          ],
          [
           "MON",
           1985
          ],
          [
           "NYA",
           1985
          ],
          [
           "NYN",
           1985
          ],
          [
           "OAK",
           1985
          ],
          [
           "PHI",
           1985
          ],
          [
           "PIT",
           1985
          ],
          [
           "SDN",
           1985
          ],
          [
           "SEA",
           1985
          ],
          [
           "SFN",
           1985
          ],
          [
           "SLN",
           1985
          ],
          [
           "TEX",
           1985
          ],
          [
           "TOR",
           1985
          ],
          [
           "ATL",
           1986
          ],
          [
           "BAL",
           1986
          ],
          [
           "BOS",
           1986
          ],
          [
           "CAL",
           1986
          ],
          [
           "CHA",
           1986
          ],
          [
           "CHN",
           1986
          ],
          [
           "CIN",
           1986
          ],
          [
           "CLE",
           1986
          ],
          [
           "DET",
           1986
          ],
          [
           "HOU",
           1986
          ],
          [
           "KCA",
           1986
          ],
          [
           "LAN",
           1986
          ],
          [
           "MIN",
           1986
          ],
          [
           "ML4",
           1986
          ],
          [
           "MON",
           1986
          ],
          [
           "NYA",
           1986
          ],
          [
           "NYN",
           1986
          ],
          [
           "OAK",
           1986
          ],
          [
           "PHI",
           1986
          ],
          [
           "PIT",
           1986
          ],
          [
           "SDN",
           1986
          ],
          [
           "SEA",
           1986
          ],
          [
           "SFN",
           1986
          ],
          [
           "SLN",
           1986
          ],
          [
           "TEX",
           1986
          ],
          [
           "TOR",
           1986
          ],
          [
           "ATL",
           1987
          ],
          [
           "BAL",
           1987
          ],
          [
           "BOS",
           1987
          ],
          [
           "CAL",
           1987
          ],
          [
           "CHA",
           1987
          ],
          [
           "CHN",
           1987
          ],
          [
           "CIN",
           1987
          ],
          [
           "CLE",
           1987
          ],
          [
           "DET",
           1987
          ],
          [
           "HOU",
           1987
          ],
          [
           "KCA",
           1987
          ],
          [
           "LAN",
           1987
          ],
          [
           "MIN",
           1987
          ],
          [
           "ML4",
           1987
          ],
          [
           "MON",
           1987
          ],
          [
           "NYA",
           1987
          ],
          [
           "NYN",
           1987
          ],
          [
           "OAK",
           1987
          ],
          [
           "PHI",
           1987
          ],
          [
           "PIT",
           1987
          ],
          [
           "SDN",
           1987
          ],
          [
           "SEA",
           1987
          ],
          [
           "SFN",
           1987
          ],
          [
           "SLN",
           1987
          ],
          [
           "TEX",
           1987
          ],
          [
           "TOR",
           1987
          ],
          [
           "ATL",
           1988
          ],
          [
           "BAL",
           1988
          ],
          [
           "BOS",
           1988
          ],
          [
           "CAL",
           1988
          ],
          [
           "CHA",
           1988
          ],
          [
           "CHN",
           1988
          ],
          [
           "CIN",
           1988
          ],
          [
           "CLE",
           1988
          ],
          [
           "DET",
           1988
          ],
          [
           "HOU",
           1988
          ],
          [
           "KCA",
           1988
          ],
          [
           "LAN",
           1988
          ],
          [
           "MIN",
           1988
          ],
          [
           "ML4",
           1988
          ],
          [
           "MON",
           1988
          ],
          [
           "NYA",
           1988
          ],
          [
           "NYN",
           1988
          ],
          [
           "OAK",
           1988
          ],
          [
           "PHI",
           1988
          ],
          [
           "PIT",
           1988
          ],
          [
           "SDN",
           1988
          ],
          [
           "SEA",
           1988
          ],
          [
           "SFN",
           1988
          ],
          [
           "SLN",
           1988
          ],
          [
           "TEX",
           1988
          ],
          [
           "TOR",
           1988
          ],
          [
           "ATL",
           1989
          ],
          [
           "BAL",
           1989
          ],
          [
           "BOS",
           1989
          ],
          [
           "CAL",
           1989
          ],
          [
           "CHA",
           1989
          ],
          [
           "CHN",
           1989
          ],
          [
           "CIN",
           1989
          ],
          [
           "CLE",
           1989
          ],
          [
           "DET",
           1989
          ],
          [
           "HOU",
           1989
          ],
          [
           "KCA",
           1989
          ],
          [
           "LAN",
           1989
          ],
          [
           "MIN",
           1989
          ],
          [
           "ML4",
           1989
          ],
          [
           "MON",
           1989
          ],
          [
           "NYA",
           1989
          ],
          [
           "NYN",
           1989
          ],
          [
           "OAK",
           1989
          ],
          [
           "PHI",
           1989
          ],
          [
           "PIT",
           1989
          ],
          [
           "SDN",
           1989
          ],
          [
           "SEA",
           1989
          ],
          [
           "SFN",
           1989
          ],
          [
           "SLN",
           1989
          ],
          [
           "TEX",
           1989
          ],
          [
           "TOR",
           1989
          ],
          [
           "ATL",
           1990
          ],
          [
           "BAL",
           1990
          ],
          [
           "BOS",
           1990
          ],
          [
           "CAL",
           1990
          ],
          [
           "CHA",
           1990
          ],
          [
           "CHN",
           1990
          ],
          [
           "CIN",
           1990
          ],
          [
           "CLE",
           1990
          ],
          [
           "DET",
           1990
          ],
          [
           "HOU",
           1990
          ],
          [
           "KCA",
           1990
          ],
          [
           "LAN",
           1990
          ],
          [
           "MIN",
           1990
          ],
          [
           "ML4",
           1990
          ],
          [
           "MON",
           1990
          ],
          [
           "NYA",
           1990
          ],
          [
           "NYN",
           1990
          ],
          [
           "OAK",
           1990
          ],
          [
           "PHI",
           1990
          ],
          [
           "PIT",
           1990
          ],
          [
           "SDN",
           1990
          ],
          [
           "SEA",
           1990
          ],
          [
           "SFN",
           1990
          ],
          [
           "SLN",
           1990
          ],
          [
           "TEX",
           1990
          ],
          [
           "TOR",
           1990
          ],
          [
           "ATL",
           1991
          ],
          [
           "BAL",
           1991
          ],
          [
           "BOS",
           1991
          ],
          [
           "CAL",
           1991
          ],
          [
           "CHA",
           1991
          ],
          [
           "CHN",
           1991
          ],
          [
           "CIN",
           1991
          ],
          [
           "CLE",
           1991
          ],
          [
           "DET",
           1991
          ],
          [
           "HOU",
           1991
          ],
          [
           "KCA",
           1991
          ],
          [
           "LAN",
           1991
          ],
          [
           "MIN",
           1991
          ],
          [
           "ML4",
           1991
          ],
          [
           "MON",
           1991
          ],
          [
           "NYA",
           1991
          ],
          [
           "NYN",
           1991
          ],
          [
           "OAK",
           1991
          ],
          [
           "PHI",
           1991
          ],
          [
           "PIT",
           1991
          ],
          [
           "SDN",
           1991
          ],
          [
           "SEA",
           1991
          ],
          [
           "SFN",
           1991
          ],
          [
           "SLN",
           1991
          ],
          [
           "TEX",
           1991
          ],
          [
           "TOR",
           1991
          ],
          [
           "ATL",
           1992
          ],
          [
           "BAL",
           1992
          ],
          [
           "BOS",
           1992
          ],
          [
           "CAL",
           1992
          ],
          [
           "CHA",
           1992
          ],
          [
           "CHN",
           1992
          ],
          [
           "CIN",
           1992
          ],
          [
           "CLE",
           1992
          ],
          [
           "DET",
           1992
          ],
          [
           "HOU",
           1992
          ],
          [
           "KCA",
           1992
          ],
          [
           "LAN",
           1992
          ],
          [
           "MIN",
           1992
          ],
          [
           "ML4",
           1992
          ],
          [
           "MON",
           1992
          ],
          [
           "NYA",
           1992
          ],
          [
           "NYN",
           1992
          ],
          [
           "OAK",
           1992
          ],
          [
           "PHI",
           1992
          ],
          [
           "PIT",
           1992
          ],
          [
           "SDN",
           1992
          ],
          [
           "SEA",
           1992
          ],
          [
           "SFN",
           1992
          ],
          [
           "SLN",
           1992
          ],
          [
           "TEX",
           1992
          ],
          [
           "TOR",
           1992
          ],
          [
           "ATL",
           1993
          ],
          [
           "BAL",
           1993
          ],
          [
           "BOS",
           1993
          ],
          [
           "CAL",
           1993
          ],
          [
           "CHA",
           1993
          ],
          [
           "CHN",
           1993
          ],
          [
           "CIN",
           1993
          ],
          [
           "CLE",
           1993
          ],
          [
           "COL",
           1993
          ],
          [
           "DET",
           1993
          ],
          [
           "FLO",
           1993
          ],
          [
           "HOU",
           1993
          ],
          [
           "KCA",
           1993
          ],
          [
           "LAN",
           1993
          ],
          [
           "MIN",
           1993
          ],
          [
           "ML4",
           1993
          ],
          [
           "MON",
           1993
          ],
          [
           "NYA",
           1993
          ],
          [
           "NYN",
           1993
          ],
          [
           "OAK",
           1993
          ],
          [
           "PHI",
           1993
          ],
          [
           "PIT",
           1993
          ],
          [
           "SDN",
           1993
          ],
          [
           "SEA",
           1993
          ],
          [
           "SFN",
           1993
          ],
          [
           "SLN",
           1993
          ],
          [
           "TEX",
           1993
          ],
          [
           "TOR",
           1993
          ],
          [
           "ATL",
           1994
          ],
          [
           "BAL",
           1994
          ],
          [
           "BOS",
           1994
          ],
          [
           "CAL",
           1994
          ],
          [
           "CHA",
           1994
          ],
          [
           "CHN",
           1994
          ],
          [
           "CIN",
           1994
          ],
          [
           "CLE",
           1994
          ],
          [
           "COL",
           1994
          ],
          [
           "DET",
           1994
          ],
          [
           "FLO",
           1994
          ],
          [
           "HOU",
           1994
          ],
          [
           "KCA",
           1994
          ],
          [
           "LAN",
           1994
          ],
          [
           "MIN",
           1994
          ],
          [
           "ML4",
           1994
          ],
          [
           "MON",
           1994
          ],
          [
           "NYA",
           1994
          ],
          [
           "NYN",
           1994
          ],
          [
           "OAK",
           1994
          ],
          [
           "PHI",
           1994
          ],
          [
           "PIT",
           1994
          ],
          [
           "SDN",
           1994
          ],
          [
           "SEA",
           1994
          ],
          [
           "SFN",
           1994
          ],
          [
           "SLN",
           1994
          ],
          [
           "TEX",
           1994
          ],
          [
           "TOR",
           1994
          ],
          [
           "ATL",
           1995
          ],
          [
           "BAL",
           1995
          ],
          [
           "BOS",
           1995
          ],
          [
           "CAL",
           1995
          ],
          [
           "CHA",
           1995
          ],
          [
           "CHN",
           1995
          ],
          [
           "CIN",
           1995
          ],
          [
           "CLE",
           1995
          ],
          [
           "COL",
           1995
          ],
          [
           "DET",
           1995
          ],
          [
           "FLO",
           1995
          ],
          [
           "HOU",
           1995
          ],
          [
           "KCA",
           1995
          ],
          [
           "LAN",
           1995
          ],
          [
           "MIN",
           1995
          ],
          [
           "ML4",
           1995
          ],
          [
           "MON",
           1995
          ],
          [
           "NYA",
           1995
          ],
          [
           "NYN",
           1995
          ],
          [
           "OAK",
           1995
          ],
          [
           "PHI",
           1995
          ],
          [
           "PIT",
           1995
          ],
          [
           "SDN",
           1995
          ],
          [
           "SEA",
           1995
          ],
          [
           "SFN",
           1995
          ],
          [
           "SLN",
           1995
          ],
          [
           "TEX",
           1995
          ],
          [
           "TOR",
           1995
          ],
          [
           "ATL",
           1996
          ],
          [
           "BAL",
           1996
          ],
          [
           "BOS",
           1996
          ],
          [
           "CAL",
           1996
          ],
          [
           "CHA",
           1996
          ],
          [
           "CHN",
           1996
          ],
          [
           "CIN",
           1996
          ],
          [
           "CLE",
           1996
          ],
          [
           "COL",
           1996
          ],
          [
           "DET",
           1996
          ],
          [
           "FLO",
           1996
          ],
          [
           "HOU",
           1996
          ],
          [
           "KCA",
           1996
          ],
          [
           "LAN",
           1996
          ],
          [
           "MIN",
           1996
          ],
          [
           "ML4",
           1996
          ],
          [
           "MON",
           1996
          ],
          [
           "NYA",
           1996
          ],
          [
           "NYN",
           1996
          ],
          [
           "OAK",
           1996
          ],
          [
           "PHI",
           1996
          ],
          [
           "PIT",
           1996
          ],
          [
           "SDN",
           1996
          ],
          [
           "SEA",
           1996
          ],
          [
           "SFN",
           1996
          ],
          [
           "SLN",
           1996
          ],
          [
           "TEX",
           1996
          ],
          [
           "TOR",
           1996
          ],
          [
           "ANA",
           1997
          ],
          [
           "ATL",
           1997
          ],
          [
           "BAL",
           1997
          ],
          [
           "BOS",
           1997
          ],
          [
           "CHA",
           1997
          ],
          [
           "CHN",
           1997
          ],
          [
           "CIN",
           1997
          ],
          [
           "CLE",
           1997
          ],
          [
           "COL",
           1997
          ],
          [
           "DET",
           1997
          ],
          [
           "FLO",
           1997
          ],
          [
           "HOU",
           1997
          ],
          [
           "KCA",
           1997
          ],
          [
           "LAN",
           1997
          ],
          [
           "MIN",
           1997
          ],
          [
           "ML4",
           1997
          ],
          [
           "MON",
           1997
          ],
          [
           "NYA",
           1997
          ],
          [
           "NYN",
           1997
          ],
          [
           "OAK",
           1997
          ],
          [
           "PHI",
           1997
          ],
          [
           "PIT",
           1997
          ],
          [
           "SDN",
           1997
          ],
          [
           "SEA",
           1997
          ],
          [
           "SFN",
           1997
          ],
          [
           "SLN",
           1997
          ],
          [
           "TEX",
           1997
          ],
          [
           "TOR",
           1997
          ],
          [
           "ANA",
           1998
          ],
          [
           "ARI",
           1998
          ],
          [
           "ATL",
           1998
          ],
          [
           "BAL",
           1998
          ],
          [
           "BOS",
           1998
          ],
          [
           "CHA",
           1998
          ],
          [
           "CHN",
           1998
          ],
          [
           "CIN",
           1998
          ],
          [
           "CLE",
           1998
          ],
          [
           "COL",
           1998
          ],
          [
           "DET",
           1998
          ],
          [
           "FLO",
           1998
          ],
          [
           "HOU",
           1998
          ],
          [
           "KCA",
           1998
          ],
          [
           "LAN",
           1998
          ],
          [
           "MIL",
           1998
          ],
          [
           "MIN",
           1998
          ],
          [
           "MON",
           1998
          ],
          [
           "NYA",
           1998
          ],
          [
           "NYN",
           1998
          ],
          [
           "OAK",
           1998
          ],
          [
           "PHI",
           1998
          ],
          [
           "PIT",
           1998
          ],
          [
           "SDN",
           1998
          ],
          [
           "SEA",
           1998
          ],
          [
           "SFN",
           1998
          ],
          [
           "SLN",
           1998
          ],
          [
           "TBA",
           1998
          ],
          [
           "TEX",
           1998
          ],
          [
           "TOR",
           1998
          ],
          [
           "ANA",
           1999
          ],
          [
           "ARI",
           1999
          ],
          [
           "ATL",
           1999
          ],
          [
           "BAL",
           1999
          ],
          [
           "BOS",
           1999
          ],
          [
           "CHA",
           1999
          ],
          [
           "CHN",
           1999
          ],
          [
           "CIN",
           1999
          ],
          [
           "CLE",
           1999
          ],
          [
           "COL",
           1999
          ],
          [
           "DET",
           1999
          ],
          [
           "FLO",
           1999
          ],
          [
           "HOU",
           1999
          ],
          [
           "KCA",
           1999
          ],
          [
           "LAN",
           1999
          ],
          [
           "MIL",
           1999
          ],
          [
           "MIN",
           1999
          ],
          [
           "MON",
           1999
          ],
          [
           "NYA",
           1999
          ],
          [
           "NYN",
           1999
          ],
          [
           "OAK",
           1999
          ],
          [
           "PHI",
           1999
          ],
          [
           "PIT",
           1999
          ],
          [
           "SDN",
           1999
          ],
          [
           "SEA",
           1999
          ],
          [
           "SFN",
           1999
          ],
          [
           "SLN",
           1999
          ],
          [
           "TBA",
           1999
          ],
          [
           "TEX",
           1999
          ],
          [
           "TOR",
           1999
          ],
          [
           "ANA",
           2000
          ],
          [
           "ARI",
           2000
          ],
          [
           "ATL",
           2000
          ],
          [
           "BAL",
           2000
          ],
          [
           "BOS",
           2000
          ],
          [
           "CHA",
           2000
          ],
          [
           "CHN",
           2000
          ],
          [
           "CIN",
           2000
          ],
          [
           "CLE",
           2000
          ],
          [
           "COL",
           2000
          ],
          [
           "DET",
           2000
          ],
          [
           "FLO",
           2000
          ],
          [
           "HOU",
           2000
          ],
          [
           "KCA",
           2000
          ],
          [
           "LAN",
           2000
          ],
          [
           "MIL",
           2000
          ],
          [
           "MIN",
           2000
          ],
          [
           "MON",
           2000
          ],
          [
           "NYA",
           2000
          ],
          [
           "NYN",
           2000
          ],
          [
           "OAK",
           2000
          ],
          [
           "PHI",
           2000
          ],
          [
           "PIT",
           2000
          ],
          [
           "SDN",
           2000
          ],
          [
           "SEA",
           2000
          ],
          [
           "SFN",
           2000
          ],
          [
           "SLN",
           2000
          ],
          [
           "TBA",
           2000
          ],
          [
           "TEX",
           2000
          ],
          [
           "TOR",
           2000
          ],
          [
           "ANA",
           2001
          ],
          [
           "ARI",
           2001
          ],
          [
           "ATL",
           2001
          ],
          [
           "BAL",
           2001
          ],
          [
           "BOS",
           2001
          ],
          [
           "CHA",
           2001
          ],
          [
           "CHN",
           2001
          ],
          [
           "CIN",
           2001
          ],
          [
           "CLE",
           2001
          ],
          [
           "COL",
           2001
          ],
          [
           "DET",
           2001
          ],
          [
           "FLO",
           2001
          ],
          [
           "HOU",
           2001
          ],
          [
           "KCA",
           2001
          ],
          [
           "LAN",
           2001
          ],
          [
           "MIL",
           2001
          ],
          [
           "MIN",
           2001
          ],
          [
           "MON",
           2001
          ],
          [
           "NYA",
           2001
          ],
          [
           "NYN",
           2001
          ],
          [
           "OAK",
           2001
          ],
          [
           "PHI",
           2001
          ],
          [
           "PIT",
           2001
          ],
          [
           "SDN",
           2001
          ],
          [
           "SEA",
           2001
          ],
          [
           "SFN",
           2001
          ],
          [
           "SLN",
           2001
          ],
          [
           "TBA",
           2001
          ],
          [
           "TEX",
           2001
          ],
          [
           "TOR",
           2001
          ],
          [
           "ANA",
           2002
          ],
          [
           "ARI",
           2002
          ],
          [
           "ATL",
           2002
          ],
          [
           "BAL",
           2002
          ],
          [
           "BOS",
           2002
          ],
          [
           "CHA",
           2002
          ],
          [
           "CHN",
           2002
          ],
          [
           "CIN",
           2002
          ],
          [
           "CLE",
           2002
          ],
          [
           "COL",
           2002
          ],
          [
           "DET",
           2002
          ],
          [
           "FLO",
           2002
          ],
          [
           "HOU",
           2002
          ],
          [
           "KCA",
           2002
          ],
          [
           "LAN",
           2002
          ],
          [
           "MIL",
           2002
          ],
          [
           "MIN",
           2002
          ],
          [
           "MON",
           2002
          ],
          [
           "NYA",
           2002
          ],
          [
           "NYN",
           2002
          ],
          [
           "OAK",
           2002
          ],
          [
           "PHI",
           2002
          ],
          [
           "PIT",
           2002
          ],
          [
           "SDN",
           2002
          ],
          [
           "SEA",
           2002
          ],
          [
           "SFN",
           2002
          ],
          [
           "SLN",
           2002
          ],
          [
           "TBA",
           2002
          ],
          [
           "TEX",
           2002
          ],
          [
           "TOR",
           2002
          ],
          [
           "ANA",
           2003
          ],
          [
           "ARI",
           2003
          ],
          [
           "ATL",
           2003
          ],
          [
           "BAL",
           2003
          ],
          [
           "BOS",
           2003
          ],
          [
           "CHA",
           2003
          ],
          [
           "CHN",
           2003
          ],
          [
           "CIN",
           2003
          ],
          [
           "CLE",
           2003
          ],
          [
           "COL",
           2003
          ],
          [
           "DET",
           2003
          ],
          [
           "FLO",
           2003
          ],
          [
           "HOU",
           2003
          ],
          [
           "KCA",
           2003
          ],
          [
           "LAN",
           2003
          ],
          [
           "MIL",
           2003
          ],
          [
           "MIN",
           2003
          ],
          [
           "MON",
           2003
          ],
          [
           "NYA",
           2003
          ],
          [
           "NYN",
           2003
          ],
          [
           "OAK",
           2003
          ],
          [
           "PHI",
           2003
          ],
          [
           "PIT",
           2003
          ],
          [
           "SDN",
           2003
          ],
          [
           "SEA",
           2003
          ],
          [
           "SFN",
           2003
          ],
          [
           "SLN",
           2003
          ],
          [
           "TBA",
           2003
          ],
          [
           "TEX",
           2003
          ],
          [
           "TOR",
           2003
          ],
          [
           "ANA",
           2004
          ],
          [
           "ARI",
           2004
          ],
          [
           "ATL",
           2004
          ],
          [
           "BAL",
           2004
          ],
          [
           "BOS",
           2004
          ],
          [
           "CHA",
           2004
          ],
          [
           "CHN",
           2004
          ],
          [
           "CIN",
           2004
          ],
          [
           "CLE",
           2004
          ],
          [
           "COL",
           2004
          ],
          [
           "DET",
           2004
          ],
          [
           "FLO",
           2004
          ],
          [
           "HOU",
           2004
          ],
          [
           "KCA",
           2004
          ],
          [
           "LAN",
           2004
          ],
          [
           "MIL",
           2004
          ],
          [
           "MIN",
           2004
          ],
          [
           "MON",
           2004
          ],
          [
           "NYA",
           2004
          ],
          [
           "NYN",
           2004
          ],
          [
           "OAK",
           2004
          ],
          [
           "PHI",
           2004
          ],
          [
           "PIT",
           2004
          ],
          [
           "SDN",
           2004
          ],
          [
           "SEA",
           2004
          ],
          [
           "SFN",
           2004
          ],
          [
           "SLN",
           2004
          ],
          [
           "TBA",
           2004
          ],
          [
           "TEX",
           2004
          ],
          [
           "TOR",
           2004
          ],
          [
           "ARI",
           2005
          ],
          [
           "ATL",
           2005
          ],
          [
           "BAL",
           2005
          ],
          [
           "BOS",
           2005
          ],
          [
           "CHA",
           2005
          ],
          [
           "CHN",
           2005
          ],
          [
           "CIN",
           2005
          ],
          [
           "CLE",
           2005
          ],
          [
           "COL",
           2005
          ],
          [
           "DET",
           2005
          ],
          [
           "FLO",
           2005
          ],
          [
           "HOU",
           2005
          ],
          [
           "KCA",
           2005
          ],
          [
           "LAA",
           2005
          ],
          [
           "LAN",
           2005
          ],
          [
           "MIL",
           2005
          ],
          [
           "MIN",
           2005
          ],
          [
           "NYA",
           2005
          ],
          [
           "NYN",
           2005
          ],
          [
           "OAK",
           2005
          ],
          [
           "PHI",
           2005
          ],
          [
           "PIT",
           2005
          ],
          [
           "SDN",
           2005
          ],
          [
           "SEA",
           2005
          ],
          [
           "SFN",
           2005
          ],
          [
           "SLN",
           2005
          ],
          [
           "TBA",
           2005
          ],
          [
           "TEX",
           2005
          ],
          [
           "TOR",
           2005
          ],
          [
           "WAS",
           2005
          ],
          [
           "ARI",
           2006
          ],
          [
           "ATL",
           2006
          ],
          [
           "BAL",
           2006
          ],
          [
           "BOS",
           2006
          ],
          [
           "CHA",
           2006
          ],
          [
           "CHN",
           2006
          ],
          [
           "CIN",
           2006
          ],
          [
           "CLE",
           2006
          ],
          [
           "COL",
           2006
          ],
          [
           "DET",
           2006
          ],
          [
           "FLO",
           2006
          ],
          [
           "HOU",
           2006
          ],
          [
           "KCA",
           2006
          ],
          [
           "LAA",
           2006
          ],
          [
           "LAN",
           2006
          ],
          [
           "MIL",
           2006
          ],
          [
           "MIN",
           2006
          ],
          [
           "NYA",
           2006
          ],
          [
           "NYN",
           2006
          ],
          [
           "OAK",
           2006
          ],
          [
           "PHI",
           2006
          ],
          [
           "PIT",
           2006
          ],
          [
           "SDN",
           2006
          ],
          [
           "SEA",
           2006
          ],
          [
           "SFN",
           2006
          ],
          [
           "SLN",
           2006
          ],
          [
           "TBA",
           2006
          ],
          [
           "TEX",
           2006
          ],
          [
           "TOR",
           2006
          ],
          [
           "WAS",
           2006
          ],
          [
           "ARI",
           2007
          ],
          [
           "ATL",
           2007
          ],
          [
           "BAL",
           2007
          ],
          [
           "BOS",
           2007
          ],
          [
           "CHA",
           2007
          ],
          [
           "CHN",
           2007
          ],
          [
           "CIN",
           2007
          ],
          [
           "CLE",
           2007
          ],
          [
           "COL",
           2007
          ],
          [
           "DET",
           2007
          ],
          [
           "FLO",
           2007
          ],
          [
           "HOU",
           2007
          ],
          [
           "KCA",
           2007
          ],
          [
           "LAA",
           2007
          ],
          [
           "LAN",
           2007
          ],
          [
           "MIL",
           2007
          ],
          [
           "MIN",
           2007
          ],
          [
           "NYA",
           2007
          ],
          [
           "NYN",
           2007
          ],
          [
           "OAK",
           2007
          ],
          [
           "PHI",
           2007
          ],
          [
           "PIT",
           2007
          ],
          [
           "SDN",
           2007
          ],
          [
           "SEA",
           2007
          ],
          [
           "SFN",
           2007
          ],
          [
           "SLN",
           2007
          ],
          [
           "TBA",
           2007
          ],
          [
           "TEX",
           2007
          ],
          [
           "TOR",
           2007
          ],
          [
           "WAS",
           2007
          ],
          [
           "ARI",
           2008
          ],
          [
           "ATL",
           2008
          ],
          [
           "BAL",
           2008
          ],
          [
           "BOS",
           2008
          ],
          [
           "CHA",
           2008
          ],
          [
           "CHN",
           2008
          ],
          [
           "CIN",
           2008
          ],
          [
           "CLE",
           2008
          ],
          [
           "COL",
           2008
          ],
          [
           "DET",
           2008
          ],
          [
           "FLO",
           2008
          ],
          [
           "HOU",
           2008
          ],
          [
           "KCA",
           2008
          ],
          [
           "LAA",
           2008
          ],
          [
           "LAN",
           2008
          ],
          [
           "MIL",
           2008
          ],
          [
           "MIN",
           2008
          ],
          [
           "NYA",
           2008
          ],
          [
           "NYN",
           2008
          ],
          [
           "OAK",
           2008
          ],
          [
           "PHI",
           2008
          ],
          [
           "PIT",
           2008
          ],
          [
           "SDN",
           2008
          ],
          [
           "SEA",
           2008
          ],
          [
           "SFN",
           2008
          ],
          [
           "SLN",
           2008
          ],
          [
           "TBA",
           2008
          ],
          [
           "TEX",
           2008
          ],
          [
           "TOR",
           2008
          ],
          [
           "WAS",
           2008
          ],
          [
           "ARI",
           2009
          ],
          [
           "ATL",
           2009
          ],
          [
           "BAL",
           2009
          ],
          [
           "BOS",
           2009
          ],
          [
           "CHA",
           2009
          ],
          [
           "CHN",
           2009
          ],
          [
           "CIN",
           2009
          ],
          [
           "CLE",
           2009
          ],
          [
           "COL",
           2009
          ],
          [
           "DET",
           2009
          ],
          [
           "FLO",
           2009
          ],
          [
           "HOU",
           2009
          ],
          [
           "KCA",
           2009
          ],
          [
           "LAA",
           2009
          ],
          [
           "LAN",
           2009
          ],
          [
           "MIL",
           2009
          ],
          [
           "MIN",
           2009
          ],
          [
           "NYA",
           2009
          ],
          [
           "NYN",
           2009
          ],
          [
           "OAK",
           2009
          ],
          [
           "PHI",
           2009
          ],
          [
           "PIT",
           2009
          ],
          [
           "SDN",
           2009
          ],
          [
           "SEA",
           2009
          ],
          [
           "SFN",
           2009
          ],
          [
           "SLN",
           2009
          ],
          [
           "TBA",
           2009
          ],
          [
           "TEX",
           2009
          ],
          [
           "TOR",
           2009
          ],
          [
           "WAS",
           2009
          ],
          [
           "ARI",
           2010
          ],
          [
           "ATL",
           2010
          ],
          [
           "BAL",
           2010
          ],
          [
           "BOS",
           2010
          ],
          [
           "CHA",
           2010
          ],
          [
           "CHN",
           2010
          ],
          [
           "CIN",
           2010
          ],
          [
           "CLE",
           2010
          ],
          [
           "COL",
           2010
          ],
          [
           "DET",
           2010
          ],
          [
           "FLO",
           2010
          ],
          [
           "HOU",
           2010
          ],
          [
           "KCA",
           2010
          ],
          [
           "LAA",
           2010
          ],
          [
           "LAN",
           2010
          ],
          [
           "MIL",
           2010
          ],
          [
           "MIN",
           2010
          ],
          [
           "NYA",
           2010
          ],
          [
           "NYN",
           2010
          ],
          [
           "OAK",
           2010
          ],
          [
           "PHI",
           2010
          ],
          [
           "PIT",
           2010
          ],
          [
           "SDN",
           2010
          ],
          [
           "SEA",
           2010
          ],
          [
           "SFN",
           2010
          ],
          [
           "SLN",
           2010
          ],
          [
           "TBA",
           2010
          ],
          [
           "TEX",
           2010
          ],
          [
           "TOR",
           2010
          ],
          [
           "WAS",
           2010
          ],
          [
           "ARI",
           2011
          ],
          [
           "ATL",
           2011
          ],
          [
           "BAL",
           2011
          ],
          [
           "BOS",
           2011
          ],
          [
           "CHA",
           2011
          ],
          [
           "CHN",
           2011
          ],
          [
           "CIN",
           2011
          ],
          [
           "CLE",
           2011
          ],
          [
           "COL",
           2011
          ],
          [
           "DET",
           2011
          ],
          [
           "FLO",
           2011
          ],
          [
           "HOU",
           2011
          ],
          [
           "KCA",
           2011
          ],
          [
           "LAA",
           2011
          ],
          [
           "LAN",
           2011
          ],
          [
           "MIL",
           2011
          ],
          [
           "MIN",
           2011
          ],
          [
           "NYA",
           2011
          ],
          [
           "NYN",
           2011
          ],
          [
           "OAK",
           2011
          ],
          [
           "PHI",
           2011
          ],
          [
           "PIT",
           2011
          ],
          [
           "SDN",
           2011
          ],
          [
           "SEA",
           2011
          ],
          [
           "SFN",
           2011
          ],
          [
           "SLN",
           2011
          ],
          [
           "TBA",
           2011
          ],
          [
           "TEX",
           2011
          ],
          [
           "TOR",
           2011
          ],
          [
           "WAS",
           2011
          ],
          [
           "ARI",
           2012
          ],
          [
           "ATL",
           2012
          ],
          [
           "BAL",
           2012
          ],
          [
           "BOS",
           2012
          ],
          [
           "CHA",
           2012
          ],
          [
           "CHN",
           2012
          ],
          [
           "CIN",
           2012
          ],
          [
           "CLE",
           2012
          ],
          [
           "COL",
           2012
          ],
          [
           "DET",
           2012
          ],
          [
           "HOU",
           2012
          ],
          [
           "KCA",
           2012
          ],
          [
           "LAA",
           2012
          ],
          [
           "LAN",
           2012
          ],
          [
           "MIA",
           2012
          ],
          [
           "MIL",
           2012
          ],
          [
           "MIN",
           2012
          ],
          [
           "NYA",
           2012
          ],
          [
           "NYN",
           2012
          ],
          [
           "OAK",
           2012
          ],
          [
           "PHI",
           2012
          ],
          [
           "PIT",
           2012
          ],
          [
           "SDN",
           2012
          ],
          [
           "SEA",
           2012
          ],
          [
           "SFN",
           2012
          ],
          [
           "SLN",
           2012
          ],
          [
           "TBA",
           2012
          ],
          [
           "TEX",
           2012
          ],
          [
           "TOR",
           2012
          ],
          [
           "WAS",
           2012
          ],
          [
           "ARI",
           2013
          ],
          [
           "ATL",
           2013
          ],
          [
           "BAL",
           2013
          ],
          [
           "BOS",
           2013
          ],
          [
           "CHA",
           2013
          ],
          [
           "CHN",
           2013
          ],
          [
           "CIN",
           2013
          ],
          [
           "CLE",
           2013
          ],
          [
           "COL",
           2013
          ],
          [
           "DET",
           2013
          ],
          [
           "HOU",
           2013
          ],
          [
           "KCA",
           2013
          ],
          [
           "LAA",
           2013
          ],
          [
           "LAN",
           2013
          ],
          [
           "MIA",
           2013
          ],
          [
           "MIL",
           2013
          ],
          [
           "MIN",
           2013
          ],
          [
           "NYA",
           2013
          ],
          [
           "NYN",
           2013
          ],
          [
           "OAK",
           2013
          ],
          [
           "PHI",
           2013
          ],
          [
           "PIT",
           2013
          ],
          [
           "SDN",
           2013
          ],
          [
           "SEA",
           2013
          ],
          [
           "SFN",
           2013
          ],
          [
           "SLN",
           2013
          ],
          [
           "TBA",
           2013
          ],
          [
           "TEX",
           2013
          ],
          [
           "TOR",
           2013
          ],
          [
           "WAS",
           2013
          ],
          [
           "ARI",
           2014
          ],
          [
           "ATL",
           2014
          ],
          [
           "BAL",
           2014
          ],
          [
           "BOS",
           2014
          ],
          [
           "CHA",
           2014
          ],
          [
           "CHN",
           2014
          ],
          [
           "CIN",
           2014
          ],
          [
           "CLE",
           2014
          ],
          [
           "CLE",
           2014
          ],
          [
           "COL",
           2014
          ],
          [
           "DET",
           2014
          ],
          [
           "HOU",
           2014
          ],
          [
           "KCA",
           2014
          ],
          [
           "LAA",
           2014
          ],
          [
           "LAN",
           2014
          ],
          [
           "MIA",
           2014
          ],
          [
           "MIL",
           2014
          ],
          [
           "MIN",
           2014
          ],
          [
           "NYA",
           2014
          ],
          [
           "NYN",
           2014
          ],
          [
           "OAK",
           2014
          ],
          [
           "PHI",
           2014
          ],
          [
           "PIT",
           2014
          ],
          [
           "SDN",
           2014
          ],
          [
           "SEA",
           2014
          ],
          [
           "SFN",
           2014
          ],
          [
           "SLN",
           2014
          ],
          [
           "TBA",
           2014
          ],
          [
           "TEX",
           2014
          ],
          [
           "TOR",
           2014
          ],
          [
           "WAS",
           2014
          ],
          [
           "ARI",
           2015
          ],
          [
           "ARI",
           2015
          ],
          [
           "ATL",
           2015
          ],
          [
           "BAL",
           2015
          ],
          [
           "BOS",
           2015
          ],
          [
           "CHA",
           2015
          ],
          [
           "CHN",
           2015
          ],
          [
           "CIN",
           2015
          ],
          [
           "CLE",
           2015
          ],
          [
           "COL",
           2015
          ],
          [
           "DET",
           2015
          ],
          [
           "HOU",
           2015
          ],
          [
           "KCA",
           2015
          ],
          [
           "LAA",
           2015
          ],
          [
           "LAN",
           2015
          ],
          [
           "MIA",
           2015
          ],
          [
           "MIL",
           2015
          ],
          [
           "MIN",
           2015
          ],
          [
           "NYA",
           2015
          ],
          [
           "NYN",
           2015
          ],
          [
           "OAK",
           2015
          ],
          [
           "PHI",
           2015
          ],
          [
           "PIT",
           2015
          ],
          [
           "SDN",
           2015
          ],
          [
           "SEA",
           2015
          ],
          [
           "SFN",
           2015
          ],
          [
           "SLN",
           2015
          ],
          [
           "TBA",
           2015
          ],
          [
           "TEX",
           2015
          ],
          [
           "TOR",
           2015
          ],
          [
           "WAS",
           2015
          ],
          [
           "ARI",
           2016
          ],
          [
           "ATL",
           2016
          ],
          [
           "BAL",
           2016
          ],
          [
           "BOS",
           2016
          ],
          [
           "CHC",
           2016
          ],
          [
           "CHW",
           2016
          ],
          [
           "CIN",
           2016
          ],
          [
           "CLE",
           2016
          ],
          [
           "COL",
           2016
          ],
          [
           "DET",
           2016
          ],
          [
           "HOU",
           2016
          ],
          [
           "KCR",
           2016
          ],
          [
           "LAA",
           2016
          ],
          [
           "LAD",
           2016
          ],
          [
           "MIA",
           2016
          ],
          [
           "MIL",
           2016
          ],
          [
           "MIN",
           2016
          ],
          [
           "NYM",
           2016
          ],
          [
           "NYY",
           2016
          ],
          [
           "OAK",
           2016
          ],
          [
           "PHI",
           2016
          ],
          [
           "PIT",
           2016
          ],
          [
           "SDP",
           2016
          ],
          [
           "SEA",
           2016
          ],
          [
           "SFG",
           2016
          ],
          [
           "STL",
           2016
          ],
          [
           "TBR",
           2016
          ],
          [
           "TEX",
           2016
          ],
          [
           "TOR",
           2016
          ],
          [
           "WSN",
           2016
          ]
         ],
         "hovertemplate": "adjusted_salary=%{x}<br>teamID=%{customdata[0]}<br>yearID=%{customdata[1]}<extra></extra>",
         "legendgroup": "",
         "marker": {
          "color": "#636efa"
         },
         "name": "",
         "notched": false,
         "offsetgroup": "",
         "orientation": "h",
         "showlegend": false,
         "type": "box",
         "x": [
          34258061,
          26747321,
          25213026,
          33380947,
          22780507,
          29389972,
          19341835,
          15158194,
          23941873,
          23120318,
          21565849,
          25375807,
          13337718,
          26107357,
          21910551,
          32942072,
          25067734,
          20958349,
          23425522,
          21349109,
          25534675,
          10672819,
          19022083,
          27340471,
          17760654,
          20389064,
          37938334,
          28840101,
          31947833,
          32003332,
          23111593,
          38172092,
          26411400,
          17323459,
          27363755,
          21901440,
          28934244,
          33082553,
          19405662,
          22057530,
          24630612,
          41024963,
          34147177,
          21693246,
          25709939,
          24053644,
          25245275,
          13217046,
          19846724,
          21905287,
          14957955,
          27974513,
          35288507,
          29648409,
          21636870,
          27394376,
          22698382,
          30518063,
          19796856,
          18159293,
          25857343,
          26892863,
          25228500,
          29168775,
          13645465,
          15555988,
          14806960,
          36472615,
          29534171,
          24914495,
          24559135,
          16321235,
          23602647,
          4827903,
          15549112,
          25079075,
          1876984,
          22352117,
          26079150,
          27726288,
          28472133,
          24479373,
          13092669,
          26880331,
          18211736,
          18310271,
          26368863,
          25173508,
          29825391,
          34525542,
          25535142,
          17215118,
          19676566,
          39833579,
          31285770,
          19854141,
          28353107,
          12290512,
          19589833,
          15044173,
          25365765,
          26390231,
          10945657,
          25081425,
          21808817,
          16240657,
          34309287,
          29630668,
          14258930,
          20936777,
          21729659,
          17848661,
          29725993,
          29496560,
          36667952,
          41354575,
          30482099,
          22634407,
          27098072,
          33588288,
          39025994,
          30641861,
          20811172,
          24998332,
          27858789,
          19193027,
          29365722,
          31555957,
          23342468,
          31914781,
          27336172,
          18179823,
          38609879,
          40791565,
          17825650,
          25586753,
          26987789,
          27207523,
          33041239,
          34424925,
          43873626,
          40037905,
          27423500,
          37033871,
          31150309,
          39274685,
          40796887,
          37350013,
          24740998,
          29215174,
          33032028,
          23576598,
          36313006,
          38544148,
          27935032,
          33348482,
          32917108,
          31335062,
          62901752,
          59132209,
          30263075,
          41452763,
          47050587,
          31542543,
          42638029,
          22988406,
          47076524,
          58650464,
          41785746,
          41345146,
          19196205,
          48908682,
          58291552,
          66177932,
          40221584,
          42273746,
          39618223,
          28066930,
          55389790,
          39099519,
          32596942,
          35598120,
          59039098,
          40548032,
          74359705,
          59250530,
          51426751,
          50862118,
          61266221,
          15981826,
          46587724,
          26271080,
          57791831,
          76367581,
          47789809,
          52880905,
          26978407,
          64014535,
          76050156,
          69968118,
          41576483,
          57877653,
          45788608,
          39523560,
          56545984,
          47032755,
          51371053,
          76368434,
          68468766,
          47841826,
          61035399,
          47006276,
          65270293,
          64761399,
          73793246,
          30518864,
          17023709,
          62728286,
          31784186,
          49673517,
          67983302,
          64671513,
          46397245,
          39144310,
          31075167,
          70085855,
          64197424,
          62172807,
          46924064,
          40814261,
          41946927,
          53760840,
          57630850,
          38421663,
          59812698,
          77738617,
          78604726,
          61837955,
          60261062,
          40041656,
          62369696,
          57759274,
          65199770,
          48532339,
          38021946,
          65971225,
          34433679,
          52727317,
          64530453,
          60485362,
          45266130,
          38759178,
          30398669,
          72791480,
          49274213,
          54393052,
          50296761,
          38547081,
          23742626,
          46523588,
          67868818,
          46598560,
          52484734,
          69134239,
          73137747,
          68039096,
          50253013,
          48344889,
          72713242,
          45685823,
          66803731,
          58741645,
          52883995,
          57357922,
          37959396,
          52907401,
          45727629,
          60809280,
          39344748,
          27559091,
          19143994,
          75676147,
          42851010,
          58434124,
          47311779,
          28420788,
          40849503,
          56486413,
          56457716,
          57445919,
          53544735,
          78331825,
          74710152,
          81913533,
          63728781,
          43200908,
          67856754,
          49729600,
          63928466,
          72318243,
          60401032,
          35233589,
          46635123,
          42823588,
          30488149,
          53148031,
          34751040,
          32666008,
          24449898,
          81464773,
          36799243,
          31933916,
          51583881,
          34601465,
          42614892,
          62127802,
          55838467,
          60536091,
          58689870,
          44429203,
          45574441,
          76522476,
          85653181,
          63758972,
          84516728,
          61704725,
          72847740,
          83144407,
          63760314,
          25281831,
          71273481,
          50905447,
          50726138,
          66425265,
          49873505,
          34625420,
          28243722,
          91105849,
          58257700,
          35156997,
          53655827,
          15766990,
          54690947,
          60805001,
          52098222,
          66537041,
          78235554,
          68912945,
          59008714,
          46238096,
          87461718,
          103428040,
          81130728,
          54797583,
          72669872,
          32884268,
          86910191,
          72164777,
          34399474,
          59068274,
          60571092,
          52692733,
          69785262,
          48479321,
          39920686,
          15211386,
          95496410,
          74442376,
          30451361,
          51885099,
          21534514,
          66985704,
          77314174,
          60845307,
          78151090,
          38995124,
          80866417,
          73438911,
          77394000,
          96000241,
          102198674,
          112630740,
          88725189,
          35798879,
          87112004,
          47456236,
          101972957,
          86543074,
          50987086,
          29462114,
          76731446,
          36644247,
          112989274,
          60611324,
          29703149,
          25015899,
          121194101,
          90953316,
          34138651,
          44283996,
          34510100,
          69541180,
          75628979,
          65107370,
          69555175,
          54313132,
          107186946,
          63499461,
          70431917,
          110891635,
          115695293,
          111465887,
          106666199,
          42608133,
          82851847,
          64140682,
          103847561,
          83634469,
          79739509,
          27196069,
          70192342,
          32069519,
          120329861,
          49959821,
          22607964,
          45154799,
          126370659,
          108814080,
          43754760,
          64743944,
          39590226,
          75025952,
          80628846,
          73543561,
          84103438,
          85897988,
          96888627,
          61364049,
          63530113,
          113712288,
          122871454,
          90345879,
          147061416,
          87745246,
          86491843,
          65469132,
          124496401,
          95614034,
          71389991,
          47796102,
          81008017,
          47341696,
          145818644,
          58654164,
          32249421,
          46990200,
          150070262,
          124526374,
          45187614,
          55683154,
          77196579,
          52367331,
          99863393,
          84573095,
          104965429,
          76153006,
          118457485,
          102770472,
          80399786,
          133935235,
          120974660,
          78799936,
          141159636,
          74318076,
          98596280,
          58683472,
          102788909,
          74055221,
          71706544,
          54683817,
          82649083,
          61557843,
          123554608,
          65505862,
          52658353,
          50372909,
          164036904,
          123271470,
          52110168,
          75493255,
          55131503,
          53960972,
          104577690,
          101994815,
          97254638,
          44784024,
          137460280,
          100124903,
          100535266,
          102602834,
          135151336,
          93978710,
          127140783,
          64889229,
          101599579,
          75505655,
          61804203,
          85458475,
          62546042,
          62904771,
          90369159,
          51542477,
          134297705,
          51681135,
          70607266,
          66083084,
          194311266,
          148677149,
          63936223,
          90038416,
          69726255,
          57511116,
          110619747,
          105395280,
          106584045,
          24971095,
          131650549,
          65218700,
          126123258,
          87541698,
          113136205,
          64762764,
          159699156,
          81810714,
          113609788,
          58479998,
          43054421,
          82102601,
          58751917,
          52869501,
          94587425,
          59726683,
          116547887,
          34535192,
          67223724,
          51306938,
          231075924,
          121263608,
          74550987,
          116569422,
          40430744,
          69481660,
          102263655,
          102895098,
          104412028,
          37079579,
          69062127,
          62747579,
          76810903,
          106545040,
          91087801,
          152200661,
          92645072,
          107254415,
          76272883,
          51145310,
          58954050,
          85145034,
          74444396,
          94618053,
          45450037,
          116909684,
          102332520,
          49213406,
          69240416,
          256705422,
          124843506,
          68303543,
          117715856,
          46992930,
          77996007,
          108143428,
          111156711,
          113507199,
          36574786,
          68825117,
          56342100,
          59869065,
          71968131,
          108712508,
          87524779,
          144818163,
          123898290,
          113858472,
          73445608,
          67563620,
          49719367,
          99615828,
          17691114,
          106949075,
          57027812,
          124768084,
          118709089,
          69416756,
          76443851,
          234727650,
          121889759,
          75053635,
          106441304,
          56332961,
          84281811,
          106063281,
          108591376,
          107186543,
          42104606,
          82271140,
          86052983,
          76138773,
          61252512,
          102689357,
          109611293,
          168256728,
          127842068,
          117252659,
          80613117,
          72552729,
          63574093,
          111523611,
          35888582,
          103240111,
          78956174,
          128523795,
          127586425,
          83508861,
          84041772,
          222645254,
          135559084,
          93367651,
          105203781,
          45336092,
          68361551,
          125241037,
          106134133,
          106213854,
          28379001,
          80370419,
          96397905,
          43465217,
          76130195,
          117716015,
          77272715,
          153392650,
          139362380,
          136092482,
          85232076,
          90812088,
          78950793,
          158331895,
          25082261,
          102266049,
          66979753,
          137093518,
          136371579,
          93074549,
          65470166,
          239072127,
          158456297,
          55160076,
          112557539,
          55991100,
          84726005,
          135311258,
          88080292,
          114563717,
          50391751,
          77866184,
          112458666,
          63202723,
          82189430,
          108730029,
          75429083,
          136405220,
          107990745,
          151539000,
          82687220,
          91703263,
          84533557,
          129367385,
          41405154,
          115778424,
          79270888,
          127820458,
          112876194,
          90133271,
          73403003,
          226449337,
          167911524,
          69593124,
          127028018,
          54735874,
          48711477,
          111178322,
          93330157,
          99514918,
          71170277,
          76639889,
          90533224,
          67365155,
          67112470,
          93314425,
          90207211,
          179554859,
          116643492,
          162048572,
          79318837,
          67649430,
          93097047,
          135803983,
          63035588,
          102081570,
          78924979,
          116017738,
          105400284,
          89649889,
          107833240,
          228062609,
          148579185,
          61073860,
          156875029,
          38622889,
          41779990,
          95620473,
          109029371,
          103391641,
          79497819,
          61069046,
          68787938,
          67866108,
          58701692,
          95212922,
          93353970,
          177027602,
          139848133,
          136847738,
          83114078,
          53379490,
          96466387,
          115674902,
          62317665,
          77365219,
          39082053,
          151617144,
          114021058,
          93565506,
          123375713,
          221363225,
          130062637,
          72815385,
          189299734,
          49297974,
          50197698,
          94236645,
          129352419,
          115383079,
          44927695,
          101009318,
          68472169,
          69882949,
          79419482,
          89131170,
          83238648,
          186361664,
          104292581,
          94906558,
          88457196,
          84396828,
          84008657,
          142364627,
          65264981,
          65550382,
          166237513,
          102381553,
          127060698,
          105082897,
          101242448,
          211472580,
          100455820,
          59584923,
          187816861,
          67741026,
          59447400,
          88214524,
          126568591,
          118691920,
          69055452,
          129678759,
          80715470,
          87006139,
          94993855,
          92611447,
          88945636,
          159703756,
          126541779,
          105992500,
          112144079,
          79859045,
          78422808,
          153864393,
          18855751,
          84411993,
          130872923,
          235410689,
          35414437,
          81097671,
          79401318,
          244492176,
          52115664,
          63376137,
          179025865,
          81218840,
          69123280,
          77996986,
          147741872,
          97236759,
          55811759,
          118592238,
          133100270,
          119836595,
          101316598,
          101055183,
          107067205,
          143928166,
          84719607,
          67835837,
          112038227,
          80393476,
          4658876,
          98771815,
          158252216,
          36356116,
          77227693,
          126295167,
          224676517,
          43313993,
          104790567,
          86719818,
          204518392,
          88577665,
          74964850,
          187333410,
          79902846,
          78357859,
          95798003,
          169283056,
          124954187,
          75255461,
          116218336,
          113800939,
          136643495,
          4962750,
          57984262,
          73073312,
          117115639,
          184363261,
          114396426,
          117965137,
          115107587,
          89241713,
          97410994,
          175385875,
          73556811,
          114124951,
          122165512,
          219676256,
          69281517,
          102665300,
          109694590,
          216581492,
          98508483,
          80476464,
          113703474,
          90492563,
          120573243,
          124408456,
          167666127,
          121387847,
          65682615,
          146330159,
          115026263,
          158388046,
          87439063,
          68498291,
          161863456,
          188545761,
          154067668,
          112998667,
          88940059,
          74311900,
          112645071,
          194876481,
          94893700,
          131487125,
          137251333,
          221288380,
          77314202,
          68775237,
          102583200,
          133889129,
          222997792,
          86806234,
          58980000,
          103778833,
          101424814,
          135683339,
          172253778,
          143053500,
          57097310,
          176038723,
          138701700,
          141652646
         ],
         "x0": " ",
         "xaxis": "x",
         "y0": " ",
         "yaxis": "y"
        }
       ],
       "layout": {
        "boxmode": "group",
        "legend": {
         "tracegroupgap": 0
        },
        "margin": {
         "t": 60
        },
        "template": {
         "data": {
          "bar": [
           {
            "error_x": {
             "color": "#2a3f5f"
            },
            "error_y": {
             "color": "#2a3f5f"
            },
            "marker": {
             "line": {
              "color": "#E5ECF6",
              "width": 0.5
             },
             "pattern": {
              "fillmode": "overlay",
              "size": 10,
              "solidity": 0.2
             }
            },
            "type": "bar"
           }
          ],
          "barpolar": [
           {
            "marker": {
             "line": {
              "color": "#E5ECF6",
              "width": 0.5
             },
             "pattern": {
              "fillmode": "overlay",
              "size": 10,
              "solidity": 0.2
             }
            },
            "type": "barpolar"
           }
          ],
          "carpet": [
           {
            "aaxis": {
             "endlinecolor": "#2a3f5f",
             "gridcolor": "white",
             "linecolor": "white",
             "minorgridcolor": "white",
             "startlinecolor": "#2a3f5f"
            },
            "baxis": {
             "endlinecolor": "#2a3f5f",
             "gridcolor": "white",
             "linecolor": "white",
             "minorgridcolor": "white",
             "startlinecolor": "#2a3f5f"
            },
            "type": "carpet"
           }
          ],
          "choropleth": [
           {
            "colorbar": {
             "outlinewidth": 0,
             "ticks": ""
            },
            "type": "choropleth"
           }
          ],
          "contour": [
           {
            "colorbar": {
             "outlinewidth": 0,
             "ticks": ""
            },
            "colorscale": [
             [
              0,
              "#0d0887"
             ],
             [
              0.1111111111111111,
              "#46039f"
             ],
             [
              0.2222222222222222,
              "#7201a8"
             ],
             [
              0.3333333333333333,
              "#9c179e"
             ],
             [
              0.4444444444444444,
              "#bd3786"
             ],
             [
              0.5555555555555556,
              "#d8576b"
             ],
             [
              0.6666666666666666,
              "#ed7953"
             ],
             [
              0.7777777777777778,
              "#fb9f3a"
             ],
             [
              0.8888888888888888,
              "#fdca26"
             ],
             [
              1,
              "#f0f921"
             ]
            ],
            "type": "contour"
           }
          ],
          "contourcarpet": [
           {
            "colorbar": {
             "outlinewidth": 0,
             "ticks": ""
            },
            "type": "contourcarpet"
           }
          ],
          "heatmap": [
           {
            "colorbar": {
             "outlinewidth": 0,
             "ticks": ""
            },
            "colorscale": [
             [
              0,
              "#0d0887"
             ],
             [
              0.1111111111111111,
              "#46039f"
             ],
             [
              0.2222222222222222,
              "#7201a8"
             ],
             [
              0.3333333333333333,
              "#9c179e"
             ],
             [
              0.4444444444444444,
              "#bd3786"
             ],
             [
              0.5555555555555556,
              "#d8576b"
             ],
             [
              0.6666666666666666,
              "#ed7953"
             ],
             [
              0.7777777777777778,
              "#fb9f3a"
             ],
             [
              0.8888888888888888,
              "#fdca26"
             ],
             [
              1,
              "#f0f921"
             ]
            ],
            "type": "heatmap"
           }
          ],
          "heatmapgl": [
           {
            "colorbar": {
             "outlinewidth": 0,
             "ticks": ""
            },
            "colorscale": [
             [
              0,
              "#0d0887"
             ],
             [
              0.1111111111111111,
              "#46039f"
             ],
             [
              0.2222222222222222,
              "#7201a8"
             ],
             [
              0.3333333333333333,
              "#9c179e"
             ],
             [
              0.4444444444444444,
              "#bd3786"
             ],
             [
              0.5555555555555556,
              "#d8576b"
             ],
             [
              0.6666666666666666,
              "#ed7953"
             ],
             [
              0.7777777777777778,
              "#fb9f3a"
             ],
             [
              0.8888888888888888,
              "#fdca26"
             ],
             [
              1,
              "#f0f921"
             ]
            ],
            "type": "heatmapgl"
           }
          ],
          "histogram": [
           {
            "marker": {
             "pattern": {
              "fillmode": "overlay",
              "size": 10,
              "solidity": 0.2
             }
            },
            "type": "histogram"
           }
          ],
          "histogram2d": [
           {
            "colorbar": {
             "outlinewidth": 0,
             "ticks": ""
            },
            "colorscale": [
             [
              0,
              "#0d0887"
             ],
             [
              0.1111111111111111,
              "#46039f"
             ],
             [
              0.2222222222222222,
              "#7201a8"
             ],
             [
              0.3333333333333333,
              "#9c179e"
             ],
             [
              0.4444444444444444,
              "#bd3786"
             ],
             [
              0.5555555555555556,
              "#d8576b"
             ],
             [
              0.6666666666666666,
              "#ed7953"
             ],
             [
              0.7777777777777778,
              "#fb9f3a"
             ],
             [
              0.8888888888888888,
              "#fdca26"
             ],
             [
              1,
              "#f0f921"
             ]
            ],
            "type": "histogram2d"
           }
          ],
          "histogram2dcontour": [
           {
            "colorbar": {
             "outlinewidth": 0,
             "ticks": ""
            },
            "colorscale": [
             [
              0,
              "#0d0887"
             ],
             [
              0.1111111111111111,
              "#46039f"
             ],
             [
              0.2222222222222222,
              "#7201a8"
             ],
             [
              0.3333333333333333,
              "#9c179e"
             ],
             [
              0.4444444444444444,
              "#bd3786"
             ],
             [
              0.5555555555555556,
              "#d8576b"
             ],
             [
              0.6666666666666666,
              "#ed7953"
             ],
             [
              0.7777777777777778,
              "#fb9f3a"
             ],
             [
              0.8888888888888888,
              "#fdca26"
             ],
             [
              1,
              "#f0f921"
             ]
            ],
            "type": "histogram2dcontour"
           }
          ],
          "mesh3d": [
           {
            "colorbar": {
             "outlinewidth": 0,
             "ticks": ""
            },
            "type": "mesh3d"
           }
          ],
          "parcoords": [
           {
            "line": {
             "colorbar": {
              "outlinewidth": 0,
              "ticks": ""
             }
            },
            "type": "parcoords"
           }
          ],
          "pie": [
           {
            "automargin": true,
            "type": "pie"
           }
          ],
          "scatter": [
           {
            "fillpattern": {
             "fillmode": "overlay",
             "size": 10,
             "solidity": 0.2
            },
            "type": "scatter"
           }
          ],
          "scatter3d": [
           {
            "line": {
             "colorbar": {
              "outlinewidth": 0,
              "ticks": ""
             }
            },
            "marker": {
             "colorbar": {
              "outlinewidth": 0,
              "ticks": ""
             }
            },
            "type": "scatter3d"
           }
          ],
          "scattercarpet": [
           {
            "marker": {
             "colorbar": {
              "outlinewidth": 0,
              "ticks": ""
             }
            },
            "type": "scattercarpet"
           }
          ],
          "scattergeo": [
           {
            "marker": {
             "colorbar": {
              "outlinewidth": 0,
              "ticks": ""
             }
            },
            "type": "scattergeo"
           }
          ],
          "scattergl": [
           {
            "marker": {
             "colorbar": {
              "outlinewidth": 0,
              "ticks": ""
             }
            },
            "type": "scattergl"
           }
          ],
          "scattermapbox": [
           {
            "marker": {
             "colorbar": {
              "outlinewidth": 0,
              "ticks": ""
             }
            },
            "type": "scattermapbox"
           }
          ],
          "scatterpolar": [
           {
            "marker": {
             "colorbar": {
              "outlinewidth": 0,
              "ticks": ""
             }
            },
            "type": "scatterpolar"
           }
          ],
          "scatterpolargl": [
           {
            "marker": {
             "colorbar": {
              "outlinewidth": 0,
              "ticks": ""
             }
            },
            "type": "scatterpolargl"
           }
          ],
          "scatterternary": [
           {
            "marker": {
             "colorbar": {
              "outlinewidth": 0,
              "ticks": ""
             }
            },
            "type": "scatterternary"
           }
          ],
          "surface": [
           {
            "colorbar": {
             "outlinewidth": 0,
             "ticks": ""
            },
            "colorscale": [
             [
              0,
              "#0d0887"
             ],
             [
              0.1111111111111111,
              "#46039f"
             ],
             [
              0.2222222222222222,
              "#7201a8"
             ],
             [
              0.3333333333333333,
              "#9c179e"
             ],
             [
              0.4444444444444444,
              "#bd3786"
             ],
             [
              0.5555555555555556,
              "#d8576b"
             ],
             [
              0.6666666666666666,
              "#ed7953"
             ],
             [
              0.7777777777777778,
              "#fb9f3a"
             ],
             [
              0.8888888888888888,
              "#fdca26"
             ],
             [
              1,
              "#f0f921"
             ]
            ],
            "type": "surface"
           }
          ],
          "table": [
           {
            "cells": {
             "fill": {
              "color": "#EBF0F8"
             },
             "line": {
              "color": "white"
             }
            },
            "header": {
             "fill": {
              "color": "#C8D4E3"
             },
             "line": {
              "color": "white"
             }
            },
            "type": "table"
           }
          ]
         },
         "layout": {
          "annotationdefaults": {
           "arrowcolor": "#2a3f5f",
           "arrowhead": 0,
           "arrowwidth": 1
          },
          "autotypenumbers": "strict",
          "coloraxis": {
           "colorbar": {
            "outlinewidth": 0,
            "ticks": ""
           }
          },
          "colorscale": {
           "diverging": [
            [
             0,
             "#8e0152"
            ],
            [
             0.1,
             "#c51b7d"
            ],
            [
             0.2,
             "#de77ae"
            ],
            [
             0.3,
             "#f1b6da"
            ],
            [
             0.4,
             "#fde0ef"
            ],
            [
             0.5,
             "#f7f7f7"
            ],
            [
             0.6,
             "#e6f5d0"
            ],
            [
             0.7,
             "#b8e186"
            ],
            [
             0.8,
             "#7fbc41"
            ],
            [
             0.9,
             "#4d9221"
            ],
            [
             1,
             "#276419"
            ]
           ],
           "sequential": [
            [
             0,
             "#0d0887"
            ],
            [
             0.1111111111111111,
             "#46039f"
            ],
            [
             0.2222222222222222,
             "#7201a8"
            ],
            [
             0.3333333333333333,
             "#9c179e"
            ],
            [
             0.4444444444444444,
             "#bd3786"
            ],
            [
             0.5555555555555556,
             "#d8576b"
            ],
            [
             0.6666666666666666,
             "#ed7953"
            ],
            [
             0.7777777777777778,
             "#fb9f3a"
            ],
            [
             0.8888888888888888,
             "#fdca26"
            ],
            [
             1,
             "#f0f921"
            ]
           ],
           "sequentialminus": [
            [
             0,
             "#0d0887"
            ],
            [
             0.1111111111111111,
             "#46039f"
            ],
            [
             0.2222222222222222,
             "#7201a8"
            ],
            [
             0.3333333333333333,
             "#9c179e"
            ],
            [
             0.4444444444444444,
             "#bd3786"
            ],
            [
             0.5555555555555556,
             "#d8576b"
            ],
            [
             0.6666666666666666,
             "#ed7953"
            ],
            [
             0.7777777777777778,
             "#fb9f3a"
            ],
            [
             0.8888888888888888,
             "#fdca26"
            ],
            [
             1,
             "#f0f921"
            ]
           ]
          },
          "colorway": [
           "#636efa",
           "#EF553B",
           "#00cc96",
           "#ab63fa",
           "#FFA15A",
           "#19d3f3",
           "#FF6692",
           "#B6E880",
           "#FF97FF",
           "#FECB52"
          ],
          "font": {
           "color": "#2a3f5f"
          },
          "geo": {
           "bgcolor": "white",
           "lakecolor": "white",
           "landcolor": "#E5ECF6",
           "showlakes": true,
           "showland": true,
           "subunitcolor": "white"
          },
          "hoverlabel": {
           "align": "left"
          },
          "hovermode": "closest",
          "mapbox": {
           "style": "light"
          },
          "paper_bgcolor": "white",
          "plot_bgcolor": "#E5ECF6",
          "polar": {
           "angularaxis": {
            "gridcolor": "white",
            "linecolor": "white",
            "ticks": ""
           },
           "bgcolor": "#E5ECF6",
           "radialaxis": {
            "gridcolor": "white",
            "linecolor": "white",
            "ticks": ""
           }
          },
          "scene": {
           "xaxis": {
            "backgroundcolor": "#E5ECF6",
            "gridcolor": "white",
            "gridwidth": 2,
            "linecolor": "white",
            "showbackground": true,
            "ticks": "",
            "zerolinecolor": "white"
           },
           "yaxis": {
            "backgroundcolor": "#E5ECF6",
            "gridcolor": "white",
            "gridwidth": 2,
            "linecolor": "white",
            "showbackground": true,
            "ticks": "",
            "zerolinecolor": "white"
           },
           "zaxis": {
            "backgroundcolor": "#E5ECF6",
            "gridcolor": "white",
            "gridwidth": 2,
            "linecolor": "white",
            "showbackground": true,
            "ticks": "",
            "zerolinecolor": "white"
           }
          },
          "shapedefaults": {
           "line": {
            "color": "#2a3f5f"
           }
          },
          "ternary": {
           "aaxis": {
            "gridcolor": "white",
            "linecolor": "white",
            "ticks": ""
           },
           "baxis": {
            "gridcolor": "white",
            "linecolor": "white",
            "ticks": ""
           },
           "bgcolor": "#E5ECF6",
           "caxis": {
            "gridcolor": "white",
            "linecolor": "white",
            "ticks": ""
           }
          },
          "title": {
           "x": 0.05
          },
          "xaxis": {
           "automargin": true,
           "gridcolor": "white",
           "linecolor": "white",
           "ticks": "",
           "title": {
            "standoff": 15
           },
           "zerolinecolor": "white",
           "zerolinewidth": 2
          },
          "yaxis": {
           "automargin": true,
           "gridcolor": "white",
           "linecolor": "white",
           "ticks": "",
           "title": {
            "standoff": 15
           },
           "zerolinecolor": "white",
           "zerolinewidth": 2
          }
         }
        },
        "xaxis": {
         "anchor": "y",
         "domain": [
          0,
          1
         ],
         "tickformat": "${:,0f}M",
         "title": {
          "text": "adjusted_salary"
         }
        },
        "yaxis": {
         "anchor": "x",
         "domain": [
          0,
          1
         ]
        }
       }
      }
     },
     "metadata": {},
     "output_type": "display_data"
    },
    {
     "data": {
      "image/png": "[encoded data removed]",
      "text/plain": [
       "<Figure size 1200x600 with 1 Axes>"
      ]
     },
     "metadata": {},
     "output_type": "display_data"
    }
   ],
   "source": [
    "import seaborn as sns\n",
    "import matplotlib.pyplot as plt\n",
    "import matplotlib.ticker as mtick\n",
    "import plotly.express as px\n",
    "\n",
    "# Set Seaborn style\n",
    "sns.set(style=\"whitegrid\")\n",
    "\n",
    "# Distribution plot\n",
    "plt.figure(figsize=(12, 6))\n",
    "sns.histplot(aggregated_df['adjusted_salary'], bins=30, kde=True, color='skyblue')\n",
    "plt.gca().xaxis.set_major_formatter(mtick.FuncFormatter(lambda x, _: '${:,.0f}M'.format(x/1e6)))\n",
    "plt.title('Distribution of MLB Salaries (1985-2016)')\n",
    "plt.xlabel('Adjusted Salary')\n",
    "plt.ylabel('Frequency')\n",
    "plt.show()\n",
    "\n",
    "# Summary statistics without scientific notation\n",
    "adjusted_salary_stats = aggregated_df['adjusted_salary'].describe().apply(lambda x: \"${:,.2f}\".format(x))\n",
    "display(\"Summary Statistics for MLB Salaries (1985-2016):\", adjusted_salary_stats)\n",
    "\n",
    "\n",
    "# Box plot with whiskers\n",
    "plt.figure(figsize=(12, 6))\n",
    "sns.boxplot(x='adjusted_salary', data=aggregated_df, color='lightblue')\n",
    "aggregated_df['teamID'] = pd.Categorical(aggregated_df['teamID'])\n",
    "fig = px.box(aggregated_df, x='adjusted_salary', category_orders={'teamID': aggregated_df['teamID'].unique()},\n",
    "             points=\"all\", hover_data=['teamID', 'yearID'])\n",
    "fig.update_layout(xaxis_tickformat='${:,0f}M')\n",
    "plt.title('Box Plot of Adjusted Salaries')\n",
    "plt.xlabel('Adjusted Salary')\n",
    "fig.show()\n",
    "plt.show()"
   ]
  }
 ],
 "metadata": {
  "kernelspec": {
   "display_name": "dev",
   "language": "python",
   "name": "python3"
  },
  "language_info": {
   "codemirror_mode": {
    "name": "ipython",
    "version": 3
   },
   "file_extension": ".py",
   "mimetype": "text/x-python",
   "name": "python",
   "nbconvert_exporter": "python",
   "pygments_lexer": "ipython3",
   "version": "3.10.13"
  }
 },
 "nbformat": 4,
 "nbformat_minor": 2
}
